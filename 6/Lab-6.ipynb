{
 "cells": [
  {
   "cell_type": "markdown",
   "id": "7d5bb45f-ec70-4416-9a40-bf940d9bb48d",
   "metadata": {},
   "source": [
    "# Анализ картинок\n",
    "\n",
    "Создайте эмбеддинги изображений и отобразите их в tensorboard projector'е\n",
    "\n",
    "1. Скачайте датасет [CelebA](https://pytorch.org/vision/stable/datasets.html#celeba) или любой другой не рассмотренный на лекции\n",
    "1. Выберите одну из предобученных [моделей torchvision](https://pytorch.org/vision/stable/models.html)\n",
    "1. Создайте эмбеддинги изображений из датасета\n",
    "1. Визуализируйте эмбеддинги в tensorboard projector"
   ]
  },
  {
   "cell_type": "markdown",
   "id": "04c22e22-c5ae-4ad9-b3c8-28aaaf87ccc2",
   "metadata": {},
   "source": [
    "# Лена\n",
    "\n",
    "Примените фильтр к изображению Лены\n",
    "\n",
    "1. Скачайте изображение [Лены](http://optipng.sourceforge.net/pngtech/img/lena.png)\n",
    "1. Найдите фильтр для выделения признака на изображении. В лекции показан пример фильтра Собеля. Использовать примеры с лекций нельзя. Начать поиск фильтра можно с [этой страницы](https://en.wikipedia.org/wiki/Feature_(computer_vision)#Extraction)\n",
    "1. Реализуйте процедуру свёртки изображения с фильтром\n",
    "1. Сверните Лену"
   ]
  },
  {
   "cell_type": "code",
   "execution_count": 2,
   "id": "5ffed0cf-7579-43e3-a1eb-56a4b0e9f144",
   "metadata": {},
   "outputs": [
    {
     "data": {
      "text/plain": "'cuda'"
     },
     "execution_count": 2,
     "metadata": {},
     "output_type": "execute_result"
    }
   ],
   "source": [
    "import random\n",
    "import numpy as np\n",
    "\n",
    "import torch\n",
    "import torch.nn as nn\n",
    "\n",
    "import torchvision\n",
    "import torchvision.transforms as transforms\n",
    "from torch.utils.data import DataLoader\n",
    "from torchvision.models import resnet50\n",
    "\n",
    "from tqdm.notebook import tqdm, trange\n",
    "\n",
    "# Фиксируем random seed для воспроизводимости результатов\n",
    "random.seed(0)\n",
    "np.random.seed(0)\n",
    "torch.manual_seed(0)\n",
    "torch.cuda.manual_seed(0)\n",
    "torch.backends.cudnn.deterministic = True\n",
    "\n",
    "poke_classes = [\n",
    "    'Grass',\n",
    "    'Fire',\n",
    "    'Water',\n",
    "    'Bug',\n",
    "    'Normal',\n",
    "    'Poison',\n",
    "    'Electric',\n",
    "    'Ground',\n",
    "    'Fairy',\n",
    "    'Fighting',\n",
    "    'Psychic',\n",
    "    'Rock',\n",
    "    'Ghost',\n",
    "    'Ice',\n",
    "    'Dragon',\n",
    "    'Dark',\n",
    "    'Steel',\n",
    "    'Flying',\n",
    "]\n",
    "\n",
    "OUTPUT_DIM = len(poke_classes)  # Количество классов\n",
    "EPOCH_NUM = 40 # Сколько эпох будет обучать модель\n",
    "\n",
    "DEVICE = 'cuda' if torch.cuda.is_available() else 'cpu'\n",
    "DEVICE"
   ]
  },
  {
   "cell_type": "code",
   "execution_count": 3,
   "outputs": [],
   "source": [
    "basic_transform = transforms.Compose([\n",
    "    transforms.Pad(15, 255),\n",
    "    transforms.RandomHorizontalFlip(),\n",
    "    transforms.RandomCrop(120),\n",
    "    transforms.ToTensor()\n",
    "])  # Базовые аугментации для тренировочных данных (грубо говоря бесплатное увеличение тренировочной выборки)"
   ],
   "metadata": {
    "collapsed": false,
    "pycharm": {
     "name": "#%%\n"
    }
   }
  },
  {
   "cell_type": "code",
   "execution_count": 4,
   "outputs": [],
   "source": [
    "import os.path\n",
    "from torch.utils.data import Dataset\n",
    "import os\n",
    "import pandas as pd\n",
    "from torchvision.io import read_image\n",
    "from PIL import ImageDraw\n",
    "from PIL import Image\n",
    "\n",
    "class PokemonImageDataset(Dataset):\n",
    "    def __init__(self, annotations_file, img_dir, transform=None, target_transform=None):\n",
    "        self.img_labels = pd.read_csv(annotations_file)\n",
    "        self.img_dir = img_dir\n",
    "        self.transform = transform\n",
    "        self.target_transform = target_transform\n",
    "\n",
    "    def __len__(self):\n",
    "        return len(self.img_labels)\n",
    "\n",
    "    def __getitem__(self, idx):\n",
    "        img_path = os.path.join(self.img_dir, self.img_labels.iloc[idx, 0] + '.png')\n",
    "        if not os.path.exists(img_path):\n",
    "            img_path = os.path.join(self.img_dir, self.img_labels.iloc[idx, 0] + '.jpg')\n",
    "\n",
    "        image = Image.open(img_path).convert('RGBA')\n",
    "        new_image = Image.new('RGBA', image.size, 'WHITE')\n",
    "        new_image.paste(image, mask=image)\n",
    "        image = new_image.convert('RGB')\n",
    "\n",
    "        label = self.img_labels.iloc[idx, 1]\n",
    "        if self.transform:\n",
    "            image = self.transform(image)\n",
    "        if self.target_transform:\n",
    "            label = self.target_transform(label)\n",
    "        return image, label"
   ],
   "metadata": {
    "collapsed": false,
    "pycharm": {
     "name": "#%%\n"
    }
   }
  },
  {
   "cell_type": "code",
   "execution_count": 5,
   "outputs": [],
   "source": [
    "# Загрузим данные\n",
    "\n",
    "\"\"\"\n",
    "full_dataset = PokemonImageDataset(\n",
    "    img_dir='./archive2/images/images',\n",
    "    annotations_file='./archive2/pokemon.csv',\n",
    "    transform=basic_transform,\n",
    "    target_transform=poke_classes.index\n",
    ")\n",
    "\"\"\"\n",
    "\n",
    "def img_loader(path):\n",
    "    img = Image.open(path).convert('RGBA')\n",
    "    new_image = Image.new('RGBA', img.size, 'WHITE')\n",
    "    new_image.paste(img, mask=img)\n",
    "    return new_image.convert('RGB')\n",
    "\n",
    "basic_transform = transforms.Compose([\n",
    "    torchvision.transforms.Resize(64),\n",
    "    # transforms.Pad(4),\n",
    "    # transforms.RandomHorizontalFlip(),\n",
    "    transforms.RandomCrop(64),\n",
    "    transforms.ToTensor(),\n",
    "    # torchvision.transforms.Normalize((0.485, 0.456, 0.406), (0.229, 0.224, 0.225))\n",
    "])\n",
    "\n",
    "full_dataset = torchvision.datasets.ImageFolder('archive6/', transform=basic_transform, loader=img_loader)\n",
    "\n",
    "train_size = int(0.8 * len(full_dataset))\n",
    "test_size = len(full_dataset) - train_size\n",
    "train_dataset, test_dataset = torch.utils.data.random_split(full_dataset, [train_size, test_size])"
   ],
   "metadata": {
    "collapsed": false,
    "pycharm": {
     "name": "#%%\n"
    }
   }
  },
  {
   "cell_type": "code",
   "execution_count": 6,
   "outputs": [],
   "source": [
    "# Создадим DataLoader'ы (для того чтобы было проще итерироваться)\n",
    "\n",
    "dataloaders = {\n",
    "    'train': DataLoader(\n",
    "        dataset=train_dataset,\n",
    "        batch_size=16,\n",
    "        shuffle=True\n",
    "    ),\n",
    "    'val': DataLoader(\n",
    "        dataset=test_dataset,\n",
    "        batch_size=16,\n",
    "        shuffle=False\n",
    "    )\n",
    "}"
   ],
   "metadata": {
    "collapsed": false,
    "pycharm": {
     "name": "#%%\n"
    }
   }
  },
  {
   "cell_type": "code",
   "execution_count": 7,
   "outputs": [],
   "source": [
    "# Создадим класс нашей модели\n",
    "\n",
    "# Так как мы хотим использовать все фишки библиотеки Pytorch важно наследоваться от nn.Module\n",
    "class PokeClassifier(nn.Module):\n",
    "    def __init__(self, output_dim):\n",
    "        super(PokeClassifier, self).__init__()  # \"Регистрируем\" создаваемый объект как нейросетевую модель\n",
    "        self.model = resnet50(pretrained=True)  # Скачиваем пред-обученную основу для нашей модели\n",
    "\n",
    "        # \"Замораживаем\" все веса для ускорения обучения (мы считаем что они уже хорошо обучены)\n",
    "        for param in self.model.parameters():\n",
    "            param.requires_grad = False\n",
    "\n",
    "        # Создаем \"голову\" которую мы и будем обучать\n",
    "        self.fc1 = nn.Sequential(\n",
    "            nn.Linear(1000, 64),\n",
    "            nn.ReLU()\n",
    "        )\n",
    "        self.fc2 = nn.Sequential(\n",
    "            nn.Dropout(0.25),\n",
    "            nn.Linear(64, output_dim)\n",
    "        )\n",
    "\n",
    "    def embed(self, x):\n",
    "        return self.fc1(self.model(x))\n",
    "\n",
    "    # Описываем как именно наша модель будет генерировать предсказания\n",
    "    def forward(self, x):\n",
    "        resnet_out = self.embed(x)\n",
    "        return self.fc2(resnet_out)"
   ],
   "metadata": {
    "collapsed": false,
    "pycharm": {
     "name": "#%%\n"
    }
   }
  },
  {
   "cell_type": "code",
   "execution_count": 8,
   "outputs": [],
   "source": [
    "model = PokeClassifier(OUTPUT_DIM)\n",
    "model = model.to(DEVICE)  # Переносим модель на GPU"
   ],
   "metadata": {
    "collapsed": false,
    "pycharm": {
     "name": "#%%\n"
    }
   }
  },
  {
   "cell_type": "code",
   "execution_count": 9,
   "outputs": [],
   "source": [
    "# Создаем функцию ошибки (так как задача многоклассовой классификации, то используем кросс-энтропию)\n",
    "# Более подробно об этом будет в курсе машинного обучения\n",
    "loss_function = torch.nn.CrossEntropyLoss()\n",
    "\n",
    "# Регистрируем для нашей модели способ изменения её весов\n",
    "optimizer = torch.optim.Adam(model.parameters(), amsgrad=True, lr=1e-4)"
   ],
   "metadata": {
    "collapsed": false,
    "pycharm": {
     "name": "#%%\n"
    }
   }
  },
  {
   "cell_type": "code",
   "execution_count": 10,
   "outputs": [
    {
     "data": {
      "text/plain": "Whole pipeline:   0%|          | 0/40 [00:00<?, ?it/s]",
      "application/vnd.jupyter.widget-view+json": {
       "version_major": 2,
       "version_minor": 0,
       "model_id": "010d741092ca495995b740619b2f77cd"
      }
     },
     "metadata": {},
     "output_type": "display_data"
    },
    {
     "data": {
      "text/plain": "Epoch: 1. Phase: train:   0%|          | 0/424 [00:00<?, ?it/s]",
      "application/vnd.jupyter.widget-view+json": {
       "version_major": 2,
       "version_minor": 0,
       "model_id": "446fef615f014cb5a897cff059d58c71"
      }
     },
     "metadata": {},
     "output_type": "display_data"
    },
    {
     "name": "stdout",
     "output_type": "stream",
     "text": [
      "train Loss: 2.7830 Acc: 0.1502 "
     ]
    },
    {
     "data": {
      "text/plain": "Epoch: 1. Phase: val:   0%|          | 0/106 [00:00<?, ?it/s]",
      "application/vnd.jupyter.widget-view+json": {
       "version_major": 2,
       "version_minor": 0,
       "model_id": "95fa6f2b136b41eb936a5d807f02eda1"
      }
     },
     "metadata": {},
     "output_type": "display_data"
    },
    {
     "name": "stdout",
     "output_type": "stream",
     "text": [
      "val Loss: 2.6069 Acc: 0.2236 "
     ]
    },
    {
     "data": {
      "text/plain": "Epoch: 2. Phase: train:   0%|          | 0/424 [00:00<?, ?it/s]",
      "application/vnd.jupyter.widget-view+json": {
       "version_major": 2,
       "version_minor": 0,
       "model_id": "784cfe51476a46f0806741a818a00f76"
      }
     },
     "metadata": {},
     "output_type": "display_data"
    },
    {
     "name": "stdout",
     "output_type": "stream",
     "text": [
      "train Loss: 2.5714 Acc: 0.2096 "
     ]
    },
    {
     "data": {
      "text/plain": "Epoch: 2. Phase: val:   0%|          | 0/106 [00:00<?, ?it/s]",
      "application/vnd.jupyter.widget-view+json": {
       "version_major": 2,
       "version_minor": 0,
       "model_id": "0af5bcc6c0f84400b1259d634691fd45"
      }
     },
     "metadata": {},
     "output_type": "display_data"
    },
    {
     "name": "stdout",
     "output_type": "stream",
     "text": [
      "val Loss: 2.5264 Acc: 0.2423 "
     ]
    },
    {
     "data": {
      "text/plain": "Epoch: 3. Phase: train:   0%|          | 0/424 [00:00<?, ?it/s]",
      "application/vnd.jupyter.widget-view+json": {
       "version_major": 2,
       "version_minor": 0,
       "model_id": "36a18989d59445f98ec87c30adc535c6"
      }
     },
     "metadata": {},
     "output_type": "display_data"
    },
    {
     "name": "stdout",
     "output_type": "stream",
     "text": [
      "train Loss: 2.5047 Acc: 0.2336 "
     ]
    },
    {
     "data": {
      "text/plain": "Epoch: 3. Phase: val:   0%|          | 0/106 [00:00<?, ?it/s]",
      "application/vnd.jupyter.widget-view+json": {
       "version_major": 2,
       "version_minor": 0,
       "model_id": "108e42de632d4fb689465437a19d1d48"
      }
     },
     "metadata": {},
     "output_type": "display_data"
    },
    {
     "name": "stdout",
     "output_type": "stream",
     "text": [
      "val Loss: 2.4633 Acc: 0.2553 "
     ]
    },
    {
     "data": {
      "text/plain": "Epoch: 4. Phase: train:   0%|          | 0/424 [00:00<?, ?it/s]",
      "application/vnd.jupyter.widget-view+json": {
       "version_major": 2,
       "version_minor": 0,
       "model_id": "4c72bdaf5546448db8679efa907234cc"
      }
     },
     "metadata": {},
     "output_type": "display_data"
    },
    {
     "name": "stdout",
     "output_type": "stream",
     "text": [
      "train Loss: 2.4416 Acc: 0.2363 "
     ]
    },
    {
     "data": {
      "text/plain": "Epoch: 4. Phase: val:   0%|          | 0/106 [00:00<?, ?it/s]",
      "application/vnd.jupyter.widget-view+json": {
       "version_major": 2,
       "version_minor": 0,
       "model_id": "2b906c5668bc48bd91bffc5aa0b909d6"
      }
     },
     "metadata": {},
     "output_type": "display_data"
    },
    {
     "name": "stdout",
     "output_type": "stream",
     "text": [
      "val Loss: 2.4178 Acc: 0.2642 "
     ]
    },
    {
     "data": {
      "text/plain": "Epoch: 5. Phase: train:   0%|          | 0/424 [00:00<?, ?it/s]",
      "application/vnd.jupyter.widget-view+json": {
       "version_major": 2,
       "version_minor": 0,
       "model_id": "5f5c7eb7dd164f08a88f6e2595a871c4"
      }
     },
     "metadata": {},
     "output_type": "display_data"
    },
    {
     "name": "stdout",
     "output_type": "stream",
     "text": [
      "train Loss: 2.4013 Acc: 0.2544 "
     ]
    },
    {
     "data": {
      "text/plain": "Epoch: 5. Phase: val:   0%|          | 0/106 [00:00<?, ?it/s]",
      "application/vnd.jupyter.widget-view+json": {
       "version_major": 2,
       "version_minor": 0,
       "model_id": "eb4657dd08014815a728a0fc19909a95"
      }
     },
     "metadata": {},
     "output_type": "display_data"
    },
    {
     "name": "stdout",
     "output_type": "stream",
     "text": [
      "val Loss: 2.3908 Acc: 0.2815 "
     ]
    },
    {
     "data": {
      "text/plain": "Epoch: 6. Phase: train:   0%|          | 0/424 [00:00<?, ?it/s]",
      "application/vnd.jupyter.widget-view+json": {
       "version_major": 2,
       "version_minor": 0,
       "model_id": "04274efaee434ba5912942a34d29fa38"
      }
     },
     "metadata": {},
     "output_type": "display_data"
    },
    {
     "name": "stdout",
     "output_type": "stream",
     "text": [
      "train Loss: 2.3640 Acc: 0.2752 "
     ]
    },
    {
     "data": {
      "text/plain": "Epoch: 6. Phase: val:   0%|          | 0/106 [00:00<?, ?it/s]",
      "application/vnd.jupyter.widget-view+json": {
       "version_major": 2,
       "version_minor": 0,
       "model_id": "9e7bda1c4da941cc85b6a5cf54b64c02"
      }
     },
     "metadata": {},
     "output_type": "display_data"
    },
    {
     "name": "stdout",
     "output_type": "stream",
     "text": [
      "val Loss: 2.3588 Acc: 0.2772 "
     ]
    },
    {
     "data": {
      "text/plain": "Epoch: 7. Phase: train:   0%|          | 0/424 [00:00<?, ?it/s]",
      "application/vnd.jupyter.widget-view+json": {
       "version_major": 2,
       "version_minor": 0,
       "model_id": "537b35f020a1468ca23ca2fef2dfb633"
      }
     },
     "metadata": {},
     "output_type": "display_data"
    },
    {
     "name": "stdout",
     "output_type": "stream",
     "text": [
      "train Loss: 2.3414 Acc: 0.2667 "
     ]
    },
    {
     "data": {
      "text/plain": "Epoch: 7. Phase: val:   0%|          | 0/106 [00:00<?, ?it/s]",
      "application/vnd.jupyter.widget-view+json": {
       "version_major": 2,
       "version_minor": 0,
       "model_id": "73d52e92bd4e48c6b7992aa0663aacab"
      }
     },
     "metadata": {},
     "output_type": "display_data"
    },
    {
     "name": "stdout",
     "output_type": "stream",
     "text": [
      "val Loss: 2.3448 Acc: 0.2848 "
     ]
    },
    {
     "data": {
      "text/plain": "Epoch: 8. Phase: train:   0%|          | 0/424 [00:00<?, ?it/s]",
      "application/vnd.jupyter.widget-view+json": {
       "version_major": 2,
       "version_minor": 0,
       "model_id": "54e70d5d19b646ae8dccf7d7c236dffd"
      }
     },
     "metadata": {},
     "output_type": "display_data"
    },
    {
     "name": "stdout",
     "output_type": "stream",
     "text": [
      "train Loss: 2.3263 Acc: 0.2691 "
     ]
    },
    {
     "data": {
      "text/plain": "Epoch: 8. Phase: val:   0%|          | 0/106 [00:00<?, ?it/s]",
      "application/vnd.jupyter.widget-view+json": {
       "version_major": 2,
       "version_minor": 0,
       "model_id": "3af572e171a244e095b33e277b25c579"
      }
     },
     "metadata": {},
     "output_type": "display_data"
    },
    {
     "name": "stdout",
     "output_type": "stream",
     "text": [
      "val Loss: 2.3278 Acc: 0.2884 "
     ]
    },
    {
     "data": {
      "text/plain": "Epoch: 9. Phase: train:   0%|          | 0/424 [00:00<?, ?it/s]",
      "application/vnd.jupyter.widget-view+json": {
       "version_major": 2,
       "version_minor": 0,
       "model_id": "f214d3a3321d4b418df687776ea3626e"
      }
     },
     "metadata": {},
     "output_type": "display_data"
    },
    {
     "name": "stdout",
     "output_type": "stream",
     "text": [
      "train Loss: 2.2984 Acc: 0.2803 "
     ]
    },
    {
     "data": {
      "text/plain": "Epoch: 9. Phase: val:   0%|          | 0/106 [00:00<?, ?it/s]",
      "application/vnd.jupyter.widget-view+json": {
       "version_major": 2,
       "version_minor": 0,
       "model_id": "d1db6b67dad04b0385e8d485e76ddaaf"
      }
     },
     "metadata": {},
     "output_type": "display_data"
    },
    {
     "name": "stdout",
     "output_type": "stream",
     "text": [
      "val Loss: 2.3140 Acc: 0.2914 "
     ]
    },
    {
     "data": {
      "text/plain": "Epoch: 10. Phase: train:   0%|          | 0/424 [00:00<?, ?it/s]",
      "application/vnd.jupyter.widget-view+json": {
       "version_major": 2,
       "version_minor": 0,
       "model_id": "1217f5b2095f4e78bbc940dca7c647b0"
      }
     },
     "metadata": {},
     "output_type": "display_data"
    },
    {
     "name": "stdout",
     "output_type": "stream",
     "text": [
      "train Loss: 2.2730 Acc: 0.2893 "
     ]
    },
    {
     "data": {
      "text/plain": "Epoch: 10. Phase: val:   0%|          | 0/106 [00:00<?, ?it/s]",
      "application/vnd.jupyter.widget-view+json": {
       "version_major": 2,
       "version_minor": 0,
       "model_id": "895a478c01b24a368a9f3ab416dddbf2"
      }
     },
     "metadata": {},
     "output_type": "display_data"
    },
    {
     "name": "stdout",
     "output_type": "stream",
     "text": [
      "val Loss: 2.3103 Acc: 0.2913 "
     ]
    },
    {
     "data": {
      "text/plain": "Epoch: 11. Phase: train:   0%|          | 0/424 [00:00<?, ?it/s]",
      "application/vnd.jupyter.widget-view+json": {
       "version_major": 2,
       "version_minor": 0,
       "model_id": "791fd5a1f4ba43ad915bf2813b00efd2"
      }
     },
     "metadata": {},
     "output_type": "display_data"
    },
    {
     "name": "stdout",
     "output_type": "stream",
     "text": [
      "train Loss: 2.2608 Acc: 0.2850 "
     ]
    },
    {
     "data": {
      "text/plain": "Epoch: 11. Phase: val:   0%|          | 0/106 [00:00<?, ?it/s]",
      "application/vnd.jupyter.widget-view+json": {
       "version_major": 2,
       "version_minor": 0,
       "model_id": "3059b9b129554c87a37643572bf73404"
      }
     },
     "metadata": {},
     "output_type": "display_data"
    },
    {
     "name": "stdout",
     "output_type": "stream",
     "text": [
      "val Loss: 2.2840 Acc: 0.2973 "
     ]
    },
    {
     "data": {
      "text/plain": "Epoch: 12. Phase: train:   0%|          | 0/424 [00:00<?, ?it/s]",
      "application/vnd.jupyter.widget-view+json": {
       "version_major": 2,
       "version_minor": 0,
       "model_id": "34f8799e0f8d44e3a05501b979724e0d"
      }
     },
     "metadata": {},
     "output_type": "display_data"
    },
    {
     "name": "stdout",
     "output_type": "stream",
     "text": [
      "train Loss: 2.2466 Acc: 0.2908 "
     ]
    },
    {
     "data": {
      "text/plain": "Epoch: 12. Phase: val:   0%|          | 0/106 [00:00<?, ?it/s]",
      "application/vnd.jupyter.widget-view+json": {
       "version_major": 2,
       "version_minor": 0,
       "model_id": "7feed15664d64330871946eaaa8f5bba"
      }
     },
     "metadata": {},
     "output_type": "display_data"
    },
    {
     "name": "stdout",
     "output_type": "stream",
     "text": [
      "val Loss: 2.2907 Acc: 0.2954 "
     ]
    },
    {
     "data": {
      "text/plain": "Epoch: 13. Phase: train:   0%|          | 0/424 [00:00<?, ?it/s]",
      "application/vnd.jupyter.widget-view+json": {
       "version_major": 2,
       "version_minor": 0,
       "model_id": "a724b7b73e0746c2a794a869871547e6"
      }
     },
     "metadata": {},
     "output_type": "display_data"
    },
    {
     "name": "stdout",
     "output_type": "stream",
     "text": [
      "train Loss: 2.2500 Acc: 0.2926 "
     ]
    },
    {
     "data": {
      "text/plain": "Epoch: 13. Phase: val:   0%|          | 0/106 [00:00<?, ?it/s]",
      "application/vnd.jupyter.widget-view+json": {
       "version_major": 2,
       "version_minor": 0,
       "model_id": "434c258b72f946bcb0146e18836c6007"
      }
     },
     "metadata": {},
     "output_type": "display_data"
    },
    {
     "name": "stdout",
     "output_type": "stream",
     "text": [
      "val Loss: 2.2844 Acc: 0.3056 "
     ]
    },
    {
     "data": {
      "text/plain": "Epoch: 14. Phase: train:   0%|          | 0/424 [00:00<?, ?it/s]",
      "application/vnd.jupyter.widget-view+json": {
       "version_major": 2,
       "version_minor": 0,
       "model_id": "1e5f89a5a0fb4bb28cd82db7d88c6bc2"
      }
     },
     "metadata": {},
     "output_type": "display_data"
    },
    {
     "name": "stdout",
     "output_type": "stream",
     "text": [
      "train Loss: 2.2346 Acc: 0.2937 "
     ]
    },
    {
     "data": {
      "text/plain": "Epoch: 14. Phase: val:   0%|          | 0/106 [00:00<?, ?it/s]",
      "application/vnd.jupyter.widget-view+json": {
       "version_major": 2,
       "version_minor": 0,
       "model_id": "691acac7c36b4179ae6f7a68a5ba89b6"
      }
     },
     "metadata": {},
     "output_type": "display_data"
    },
    {
     "name": "stdout",
     "output_type": "stream",
     "text": [
      "val Loss: 2.2634 Acc: 0.2909 "
     ]
    },
    {
     "data": {
      "text/plain": "Epoch: 15. Phase: train:   0%|          | 0/424 [00:00<?, ?it/s]",
      "application/vnd.jupyter.widget-view+json": {
       "version_major": 2,
       "version_minor": 0,
       "model_id": "0ee9be8173de4e8b88a112e3a1e596c9"
      }
     },
     "metadata": {},
     "output_type": "display_data"
    },
    {
     "name": "stdout",
     "output_type": "stream",
     "text": [
      "train Loss: 2.2009 Acc: 0.3080 "
     ]
    },
    {
     "data": {
      "text/plain": "Epoch: 15. Phase: val:   0%|          | 0/106 [00:00<?, ?it/s]",
      "application/vnd.jupyter.widget-view+json": {
       "version_major": 2,
       "version_minor": 0,
       "model_id": "c9a63f414bc145e89c86942987636213"
      }
     },
     "metadata": {},
     "output_type": "display_data"
    },
    {
     "name": "stdout",
     "output_type": "stream",
     "text": [
      "val Loss: 2.2514 Acc: 0.2944 "
     ]
    },
    {
     "data": {
      "text/plain": "Epoch: 16. Phase: train:   0%|          | 0/424 [00:00<?, ?it/s]",
      "application/vnd.jupyter.widget-view+json": {
       "version_major": 2,
       "version_minor": 0,
       "model_id": "720fe94d62d04e0db8d9d7f3e68f908f"
      }
     },
     "metadata": {},
     "output_type": "display_data"
    },
    {
     "name": "stdout",
     "output_type": "stream",
     "text": [
      "train Loss: 2.1965 Acc: 0.3096 "
     ]
    },
    {
     "data": {
      "text/plain": "Epoch: 16. Phase: val:   0%|          | 0/106 [00:00<?, ?it/s]",
      "application/vnd.jupyter.widget-view+json": {
       "version_major": 2,
       "version_minor": 0,
       "model_id": "e2ad4244a3cd48f9a2691490216b7066"
      }
     },
     "metadata": {},
     "output_type": "display_data"
    },
    {
     "name": "stdout",
     "output_type": "stream",
     "text": [
      "val Loss: 2.2602 Acc: 0.2938 "
     ]
    },
    {
     "data": {
      "text/plain": "Epoch: 17. Phase: train:   0%|          | 0/424 [00:00<?, ?it/s]",
      "application/vnd.jupyter.widget-view+json": {
       "version_major": 2,
       "version_minor": 0,
       "model_id": "1b6c620208714f958a7aca960a450531"
      }
     },
     "metadata": {},
     "output_type": "display_data"
    },
    {
     "name": "stdout",
     "output_type": "stream",
     "text": [
      "train Loss: 2.1955 Acc: 0.3040 "
     ]
    },
    {
     "data": {
      "text/plain": "Epoch: 17. Phase: val:   0%|          | 0/106 [00:00<?, ?it/s]",
      "application/vnd.jupyter.widget-view+json": {
       "version_major": 2,
       "version_minor": 0,
       "model_id": "dfd973a649d64e529d02c34c8cf58e71"
      }
     },
     "metadata": {},
     "output_type": "display_data"
    },
    {
     "name": "stdout",
     "output_type": "stream",
     "text": [
      "val Loss: 2.2324 Acc: 0.3079 "
     ]
    },
    {
     "data": {
      "text/plain": "Epoch: 18. Phase: train:   0%|          | 0/424 [00:00<?, ?it/s]",
      "application/vnd.jupyter.widget-view+json": {
       "version_major": 2,
       "version_minor": 0,
       "model_id": "fd99f7fef88d4cf8b5a54c20383ba778"
      }
     },
     "metadata": {},
     "output_type": "display_data"
    },
    {
     "name": "stdout",
     "output_type": "stream",
     "text": [
      "train Loss: 2.1881 Acc: 0.3116 "
     ]
    },
    {
     "data": {
      "text/plain": "Epoch: 18. Phase: val:   0%|          | 0/106 [00:00<?, ?it/s]",
      "application/vnd.jupyter.widget-view+json": {
       "version_major": 2,
       "version_minor": 0,
       "model_id": "f963c3b8e5d8477899948a984fc50dc8"
      }
     },
     "metadata": {},
     "output_type": "display_data"
    },
    {
     "name": "stdout",
     "output_type": "stream",
     "text": [
      "val Loss: 2.2302 Acc: 0.2927 "
     ]
    },
    {
     "data": {
      "text/plain": "Epoch: 19. Phase: train:   0%|          | 0/424 [00:00<?, ?it/s]",
      "application/vnd.jupyter.widget-view+json": {
       "version_major": 2,
       "version_minor": 0,
       "model_id": "b608da167c91478ba4f2d13c1eb669cc"
      }
     },
     "metadata": {},
     "output_type": "display_data"
    },
    {
     "name": "stdout",
     "output_type": "stream",
     "text": [
      "train Loss: 2.1815 Acc: 0.3148 "
     ]
    },
    {
     "data": {
      "text/plain": "Epoch: 19. Phase: val:   0%|          | 0/106 [00:00<?, ?it/s]",
      "application/vnd.jupyter.widget-view+json": {
       "version_major": 2,
       "version_minor": 0,
       "model_id": "fb982fea8c664569906c4af67b7df1e7"
      }
     },
     "metadata": {},
     "output_type": "display_data"
    },
    {
     "name": "stdout",
     "output_type": "stream",
     "text": [
      "val Loss: 2.2307 Acc: 0.3055 "
     ]
    },
    {
     "data": {
      "text/plain": "Epoch: 20. Phase: train:   0%|          | 0/424 [00:00<?, ?it/s]",
      "application/vnd.jupyter.widget-view+json": {
       "version_major": 2,
       "version_minor": 0,
       "model_id": "dbcc08500df84fb28debc679bcebdad1"
      }
     },
     "metadata": {},
     "output_type": "display_data"
    },
    {
     "name": "stdout",
     "output_type": "stream",
     "text": [
      "train Loss: 2.1635 Acc: 0.3086 "
     ]
    },
    {
     "data": {
      "text/plain": "Epoch: 20. Phase: val:   0%|          | 0/106 [00:00<?, ?it/s]",
      "application/vnd.jupyter.widget-view+json": {
       "version_major": 2,
       "version_minor": 0,
       "model_id": "960446900eb34961a7f8e86ea4a94d2a"
      }
     },
     "metadata": {},
     "output_type": "display_data"
    },
    {
     "name": "stdout",
     "output_type": "stream",
     "text": [
      "val Loss: 2.2472 Acc: 0.3045 "
     ]
    },
    {
     "data": {
      "text/plain": "Epoch: 21. Phase: train:   0%|          | 0/424 [00:00<?, ?it/s]",
      "application/vnd.jupyter.widget-view+json": {
       "version_major": 2,
       "version_minor": 0,
       "model_id": "2e87db300a19403785f991d6b27904ed"
      }
     },
     "metadata": {},
     "output_type": "display_data"
    },
    {
     "name": "stdout",
     "output_type": "stream",
     "text": [
      "train Loss: 2.1761 Acc: 0.3005 "
     ]
    },
    {
     "data": {
      "text/plain": "Epoch: 21. Phase: val:   0%|          | 0/106 [00:00<?, ?it/s]",
      "application/vnd.jupyter.widget-view+json": {
       "version_major": 2,
       "version_minor": 0,
       "model_id": "9e793715d8f34f7390f55b11b19ad16e"
      }
     },
     "metadata": {},
     "output_type": "display_data"
    },
    {
     "name": "stdout",
     "output_type": "stream",
     "text": [
      "val Loss: 2.2197 Acc: 0.2914 "
     ]
    },
    {
     "data": {
      "text/plain": "Epoch: 22. Phase: train:   0%|          | 0/424 [00:00<?, ?it/s]",
      "application/vnd.jupyter.widget-view+json": {
       "version_major": 2,
       "version_minor": 0,
       "model_id": "c182ec1542394aa9b1e12dd1fecf93d5"
      }
     },
     "metadata": {},
     "output_type": "display_data"
    },
    {
     "name": "stdout",
     "output_type": "stream",
     "text": [
      "train Loss: 2.1419 Acc: 0.3184 "
     ]
    },
    {
     "data": {
      "text/plain": "Epoch: 22. Phase: val:   0%|          | 0/106 [00:00<?, ?it/s]",
      "application/vnd.jupyter.widget-view+json": {
       "version_major": 2,
       "version_minor": 0,
       "model_id": "3132aa4ed15c47cdb9b98886c8a08d2c"
      }
     },
     "metadata": {},
     "output_type": "display_data"
    },
    {
     "name": "stdout",
     "output_type": "stream",
     "text": [
      "val Loss: 2.2183 Acc: 0.3050 "
     ]
    },
    {
     "data": {
      "text/plain": "Epoch: 23. Phase: train:   0%|          | 0/424 [00:00<?, ?it/s]",
      "application/vnd.jupyter.widget-view+json": {
       "version_major": 2,
       "version_minor": 0,
       "model_id": "871b97c2b83e4bd3991e7fe39e160b99"
      }
     },
     "metadata": {},
     "output_type": "display_data"
    },
    {
     "name": "stdout",
     "output_type": "stream",
     "text": [
      "train Loss: 2.1428 Acc: 0.3172 "
     ]
    },
    {
     "data": {
      "text/plain": "Epoch: 23. Phase: val:   0%|          | 0/106 [00:00<?, ?it/s]",
      "application/vnd.jupyter.widget-view+json": {
       "version_major": 2,
       "version_minor": 0,
       "model_id": "4a20cbefac6740beb97209357cacac99"
      }
     },
     "metadata": {},
     "output_type": "display_data"
    },
    {
     "name": "stdout",
     "output_type": "stream",
     "text": [
      "val Loss: 2.2212 Acc: 0.3084 "
     ]
    },
    {
     "data": {
      "text/plain": "Epoch: 24. Phase: train:   0%|          | 0/424 [00:00<?, ?it/s]",
      "application/vnd.jupyter.widget-view+json": {
       "version_major": 2,
       "version_minor": 0,
       "model_id": "b095501923214b7d91db239b419566f0"
      }
     },
     "metadata": {},
     "output_type": "display_data"
    },
    {
     "name": "stdout",
     "output_type": "stream",
     "text": [
      "train Loss: 2.1365 Acc: 0.3173 "
     ]
    },
    {
     "data": {
      "text/plain": "Epoch: 24. Phase: val:   0%|          | 0/106 [00:00<?, ?it/s]",
      "application/vnd.jupyter.widget-view+json": {
       "version_major": 2,
       "version_minor": 0,
       "model_id": "225d9f7d005e445293a19d6d38b27652"
      }
     },
     "metadata": {},
     "output_type": "display_data"
    },
    {
     "name": "stdout",
     "output_type": "stream",
     "text": [
      "val Loss: 2.2200 Acc: 0.3073 "
     ]
    },
    {
     "data": {
      "text/plain": "Epoch: 25. Phase: train:   0%|          | 0/424 [00:00<?, ?it/s]",
      "application/vnd.jupyter.widget-view+json": {
       "version_major": 2,
       "version_minor": 0,
       "model_id": "a45c5d7f27bc46ecadc5ab98424363da"
      }
     },
     "metadata": {},
     "output_type": "display_data"
    },
    {
     "name": "stdout",
     "output_type": "stream",
     "text": [
      "train Loss: 2.1322 Acc: 0.3199 "
     ]
    },
    {
     "data": {
      "text/plain": "Epoch: 25. Phase: val:   0%|          | 0/106 [00:00<?, ?it/s]",
      "application/vnd.jupyter.widget-view+json": {
       "version_major": 2,
       "version_minor": 0,
       "model_id": "5668538fa0914200ac0f3ff4808023c1"
      }
     },
     "metadata": {},
     "output_type": "display_data"
    },
    {
     "name": "stdout",
     "output_type": "stream",
     "text": [
      "val Loss: 2.2233 Acc: 0.3020 "
     ]
    },
    {
     "data": {
      "text/plain": "Epoch: 26. Phase: train:   0%|          | 0/424 [00:00<?, ?it/s]",
      "application/vnd.jupyter.widget-view+json": {
       "version_major": 2,
       "version_minor": 0,
       "model_id": "e72d336badf04ff688591a52e95d637d"
      }
     },
     "metadata": {},
     "output_type": "display_data"
    },
    {
     "name": "stdout",
     "output_type": "stream",
     "text": [
      "train Loss: 2.1239 Acc: 0.3233 "
     ]
    },
    {
     "data": {
      "text/plain": "Epoch: 26. Phase: val:   0%|          | 0/106 [00:00<?, ?it/s]",
      "application/vnd.jupyter.widget-view+json": {
       "version_major": 2,
       "version_minor": 0,
       "model_id": "c78cdc092780456a9a06bbaa1d29c565"
      }
     },
     "metadata": {},
     "output_type": "display_data"
    },
    {
     "name": "stdout",
     "output_type": "stream",
     "text": [
      "val Loss: 2.2262 Acc: 0.2908 "
     ]
    },
    {
     "data": {
      "text/plain": "Epoch: 27. Phase: train:   0%|          | 0/424 [00:00<?, ?it/s]",
      "application/vnd.jupyter.widget-view+json": {
       "version_major": 2,
       "version_minor": 0,
       "model_id": "e4bfe274cf95453cbd458e407a0b256a"
      }
     },
     "metadata": {},
     "output_type": "display_data"
    },
    {
     "name": "stdout",
     "output_type": "stream",
     "text": [
      "train Loss: 2.1025 Acc: 0.3280 "
     ]
    },
    {
     "data": {
      "text/plain": "Epoch: 27. Phase: val:   0%|          | 0/106 [00:00<?, ?it/s]",
      "application/vnd.jupyter.widget-view+json": {
       "version_major": 2,
       "version_minor": 0,
       "model_id": "f4e1b2e06d7a48fb966dc49732296145"
      }
     },
     "metadata": {},
     "output_type": "display_data"
    },
    {
     "name": "stdout",
     "output_type": "stream",
     "text": [
      "val Loss: 2.2166 Acc: 0.2901 "
     ]
    },
    {
     "data": {
      "text/plain": "Epoch: 28. Phase: train:   0%|          | 0/424 [00:00<?, ?it/s]",
      "application/vnd.jupyter.widget-view+json": {
       "version_major": 2,
       "version_minor": 0,
       "model_id": "8dd8f91b3b8846a99958e308eab9b3b3"
      }
     },
     "metadata": {},
     "output_type": "display_data"
    },
    {
     "name": "stdout",
     "output_type": "stream",
     "text": [
      "train Loss: 2.1273 Acc: 0.3210 "
     ]
    },
    {
     "data": {
      "text/plain": "Epoch: 28. Phase: val:   0%|          | 0/106 [00:00<?, ?it/s]",
      "application/vnd.jupyter.widget-view+json": {
       "version_major": 2,
       "version_minor": 0,
       "model_id": "3702ee2acdc1493eb3f939e1921849f2"
      }
     },
     "metadata": {},
     "output_type": "display_data"
    },
    {
     "name": "stdout",
     "output_type": "stream",
     "text": [
      "val Loss: 2.2104 Acc: 0.2978 "
     ]
    },
    {
     "data": {
      "text/plain": "Epoch: 29. Phase: train:   0%|          | 0/424 [00:00<?, ?it/s]",
      "application/vnd.jupyter.widget-view+json": {
       "version_major": 2,
       "version_minor": 0,
       "model_id": "81724a80bef849fdb198e7708719e57e"
      }
     },
     "metadata": {},
     "output_type": "display_data"
    },
    {
     "name": "stdout",
     "output_type": "stream",
     "text": [
      "train Loss: 2.1162 Acc: 0.3275 "
     ]
    },
    {
     "data": {
      "text/plain": "Epoch: 29. Phase: val:   0%|          | 0/106 [00:00<?, ?it/s]",
      "application/vnd.jupyter.widget-view+json": {
       "version_major": 2,
       "version_minor": 0,
       "model_id": "838b50a13c994621af27e26bfbd6d560"
      }
     },
     "metadata": {},
     "output_type": "display_data"
    },
    {
     "name": "stdout",
     "output_type": "stream",
     "text": [
      "val Loss: 2.1879 Acc: 0.3132 "
     ]
    },
    {
     "data": {
      "text/plain": "Epoch: 30. Phase: train:   0%|          | 0/424 [00:00<?, ?it/s]",
      "application/vnd.jupyter.widget-view+json": {
       "version_major": 2,
       "version_minor": 0,
       "model_id": "3e91d96217224a02b72498c11fb04889"
      }
     },
     "metadata": {},
     "output_type": "display_data"
    },
    {
     "name": "stdout",
     "output_type": "stream",
     "text": [
      "train Loss: 2.1051 Acc: 0.3285 "
     ]
    },
    {
     "data": {
      "text/plain": "Epoch: 30. Phase: val:   0%|          | 0/106 [00:00<?, ?it/s]",
      "application/vnd.jupyter.widget-view+json": {
       "version_major": 2,
       "version_minor": 0,
       "model_id": "ed97da891e1142de96c78835f8fcacaf"
      }
     },
     "metadata": {},
     "output_type": "display_data"
    },
    {
     "name": "stdout",
     "output_type": "stream",
     "text": [
      "val Loss: 2.2086 Acc: 0.3072 "
     ]
    },
    {
     "data": {
      "text/plain": "Epoch: 31. Phase: train:   0%|          | 0/424 [00:00<?, ?it/s]",
      "application/vnd.jupyter.widget-view+json": {
       "version_major": 2,
       "version_minor": 0,
       "model_id": "3b771bcc6d2c4c1cabd3bc97ee2564e8"
      }
     },
     "metadata": {},
     "output_type": "display_data"
    },
    {
     "name": "stdout",
     "output_type": "stream",
     "text": [
      "train Loss: 2.0972 Acc: 0.3312 "
     ]
    },
    {
     "data": {
      "text/plain": "Epoch: 31. Phase: val:   0%|          | 0/106 [00:00<?, ?it/s]",
      "application/vnd.jupyter.widget-view+json": {
       "version_major": 2,
       "version_minor": 0,
       "model_id": "a22f3ef4029942cab1cef4112e1e4919"
      }
     },
     "metadata": {},
     "output_type": "display_data"
    },
    {
     "name": "stdout",
     "output_type": "stream",
     "text": [
      "val Loss: 2.2088 Acc: 0.3025 "
     ]
    },
    {
     "data": {
      "text/plain": "Epoch: 32. Phase: train:   0%|          | 0/424 [00:00<?, ?it/s]",
      "application/vnd.jupyter.widget-view+json": {
       "version_major": 2,
       "version_minor": 0,
       "model_id": "5845b8cd06de4a31a99782acdbefc98f"
      }
     },
     "metadata": {},
     "output_type": "display_data"
    },
    {
     "name": "stdout",
     "output_type": "stream",
     "text": [
      "train Loss: 2.0857 Acc: 0.3352 "
     ]
    },
    {
     "data": {
      "text/plain": "Epoch: 32. Phase: val:   0%|          | 0/106 [00:00<?, ?it/s]",
      "application/vnd.jupyter.widget-view+json": {
       "version_major": 2,
       "version_minor": 0,
       "model_id": "8d9f7e7531e74bb894a7552450daeaf9"
      }
     },
     "metadata": {},
     "output_type": "display_data"
    },
    {
     "name": "stdout",
     "output_type": "stream",
     "text": [
      "val Loss: 2.2092 Acc: 0.2990 "
     ]
    },
    {
     "data": {
      "text/plain": "Epoch: 33. Phase: train:   0%|          | 0/424 [00:00<?, ?it/s]",
      "application/vnd.jupyter.widget-view+json": {
       "version_major": 2,
       "version_minor": 0,
       "model_id": "5d76f4eb50b94420a7b145c7a1b68d62"
      }
     },
     "metadata": {},
     "output_type": "display_data"
    },
    {
     "name": "stdout",
     "output_type": "stream",
     "text": [
      "train Loss: 2.0916 Acc: 0.3241 "
     ]
    },
    {
     "data": {
      "text/plain": "Epoch: 33. Phase: val:   0%|          | 0/106 [00:00<?, ?it/s]",
      "application/vnd.jupyter.widget-view+json": {
       "version_major": 2,
       "version_minor": 0,
       "model_id": "4403c33692664f3980882a95cc560a85"
      }
     },
     "metadata": {},
     "output_type": "display_data"
    },
    {
     "name": "stdout",
     "output_type": "stream",
     "text": [
      "val Loss: 2.1719 Acc: 0.3100 "
     ]
    },
    {
     "data": {
      "text/plain": "Epoch: 34. Phase: train:   0%|          | 0/424 [00:00<?, ?it/s]",
      "application/vnd.jupyter.widget-view+json": {
       "version_major": 2,
       "version_minor": 0,
       "model_id": "4dbe5cd47c9a49f78dad3cb0ea54bfae"
      }
     },
     "metadata": {},
     "output_type": "display_data"
    },
    {
     "name": "stdout",
     "output_type": "stream",
     "text": [
      "train Loss: 2.0915 Acc: 0.3321 "
     ]
    },
    {
     "data": {
      "text/plain": "Epoch: 34. Phase: val:   0%|          | 0/106 [00:00<?, ?it/s]",
      "application/vnd.jupyter.widget-view+json": {
       "version_major": 2,
       "version_minor": 0,
       "model_id": "0f8b3b151409460cb1c767b76b7aae65"
      }
     },
     "metadata": {},
     "output_type": "display_data"
    },
    {
     "name": "stdout",
     "output_type": "stream",
     "text": [
      "val Loss: 2.1898 Acc: 0.3050 "
     ]
    },
    {
     "data": {
      "text/plain": "Epoch: 35. Phase: train:   0%|          | 0/424 [00:00<?, ?it/s]",
      "application/vnd.jupyter.widget-view+json": {
       "version_major": 2,
       "version_minor": 0,
       "model_id": "b951e33271be43f1b6ecb5b94e113fa2"
      }
     },
     "metadata": {},
     "output_type": "display_data"
    },
    {
     "name": "stdout",
     "output_type": "stream",
     "text": [
      "train Loss: 2.0797 Acc: 0.3309 "
     ]
    },
    {
     "data": {
      "text/plain": "Epoch: 35. Phase: val:   0%|          | 0/106 [00:00<?, ?it/s]",
      "application/vnd.jupyter.widget-view+json": {
       "version_major": 2,
       "version_minor": 0,
       "model_id": "2067f4036d63485bb29889af2e37b1b5"
      }
     },
     "metadata": {},
     "output_type": "display_data"
    },
    {
     "name": "stdout",
     "output_type": "stream",
     "text": [
      "val Loss: 2.1890 Acc: 0.3117 "
     ]
    },
    {
     "data": {
      "text/plain": "Epoch: 36. Phase: train:   0%|          | 0/424 [00:00<?, ?it/s]",
      "application/vnd.jupyter.widget-view+json": {
       "version_major": 2,
       "version_minor": 0,
       "model_id": "a03dc4eb85b7414da2cf11e64a908bf7"
      }
     },
     "metadata": {},
     "output_type": "display_data"
    },
    {
     "name": "stdout",
     "output_type": "stream",
     "text": [
      "train Loss: 2.0779 Acc: 0.3366 "
     ]
    },
    {
     "data": {
      "text/plain": "Epoch: 36. Phase: val:   0%|          | 0/106 [00:00<?, ?it/s]",
      "application/vnd.jupyter.widget-view+json": {
       "version_major": 2,
       "version_minor": 0,
       "model_id": "56706207c8934d66baa76925ef964183"
      }
     },
     "metadata": {},
     "output_type": "display_data"
    },
    {
     "name": "stdout",
     "output_type": "stream",
     "text": [
      "val Loss: 2.1800 Acc: 0.3057 "
     ]
    },
    {
     "data": {
      "text/plain": "Epoch: 37. Phase: train:   0%|          | 0/424 [00:00<?, ?it/s]",
      "application/vnd.jupyter.widget-view+json": {
       "version_major": 2,
       "version_minor": 0,
       "model_id": "6c8863c48f99473f9b625740a0e79c9c"
      }
     },
     "metadata": {},
     "output_type": "display_data"
    },
    {
     "name": "stdout",
     "output_type": "stream",
     "text": [
      "train Loss: 2.0901 Acc: 0.3248 "
     ]
    },
    {
     "data": {
      "text/plain": "Epoch: 37. Phase: val:   0%|          | 0/106 [00:00<?, ?it/s]",
      "application/vnd.jupyter.widget-view+json": {
       "version_major": 2,
       "version_minor": 0,
       "model_id": "ea658f402ba84888b5bae69a5a5d555d"
      }
     },
     "metadata": {},
     "output_type": "display_data"
    },
    {
     "name": "stdout",
     "output_type": "stream",
     "text": [
      "val Loss: 2.1745 Acc: 0.3026 "
     ]
    },
    {
     "data": {
      "text/plain": "Epoch: 38. Phase: train:   0%|          | 0/424 [00:00<?, ?it/s]",
      "application/vnd.jupyter.widget-view+json": {
       "version_major": 2,
       "version_minor": 0,
       "model_id": "4fae736f92624aabaf3deb6b96d5ce40"
      }
     },
     "metadata": {},
     "output_type": "display_data"
    },
    {
     "name": "stdout",
     "output_type": "stream",
     "text": [
      "train Loss: 2.0872 Acc: 0.3274 "
     ]
    },
    {
     "data": {
      "text/plain": "Epoch: 38. Phase: val:   0%|          | 0/106 [00:00<?, ?it/s]",
      "application/vnd.jupyter.widget-view+json": {
       "version_major": 2,
       "version_minor": 0,
       "model_id": "84b02c1177174933b6baf98ffc06ac45"
      }
     },
     "metadata": {},
     "output_type": "display_data"
    },
    {
     "name": "stdout",
     "output_type": "stream",
     "text": [
      "val Loss: 2.1953 Acc: 0.3032 "
     ]
    },
    {
     "data": {
      "text/plain": "Epoch: 39. Phase: train:   0%|          | 0/424 [00:00<?, ?it/s]",
      "application/vnd.jupyter.widget-view+json": {
       "version_major": 2,
       "version_minor": 0,
       "model_id": "2b0b2c250a1c435981db332b32d06ef2"
      }
     },
     "metadata": {},
     "output_type": "display_data"
    },
    {
     "name": "stdout",
     "output_type": "stream",
     "text": [
      "train Loss: 2.0615 Acc: 0.3324 "
     ]
    },
    {
     "data": {
      "text/plain": "Epoch: 39. Phase: val:   0%|          | 0/106 [00:00<?, ?it/s]",
      "application/vnd.jupyter.widget-view+json": {
       "version_major": 2,
       "version_minor": 0,
       "model_id": "0ec9b8afae764d628e21ea5b2c65c05e"
      }
     },
     "metadata": {},
     "output_type": "display_data"
    },
    {
     "name": "stdout",
     "output_type": "stream",
     "text": [
      "val Loss: 2.1747 Acc: 0.3073 "
     ]
    },
    {
     "data": {
      "text/plain": "Epoch: 40. Phase: train:   0%|          | 0/424 [00:00<?, ?it/s]",
      "application/vnd.jupyter.widget-view+json": {
       "version_major": 2,
       "version_minor": 0,
       "model_id": "a514a30698a44bc6b34273414a0ed6cf"
      }
     },
     "metadata": {},
     "output_type": "display_data"
    },
    {
     "name": "stdout",
     "output_type": "stream",
     "text": [
      "train Loss: 2.0479 Acc: 0.3352 "
     ]
    },
    {
     "data": {
      "text/plain": "Epoch: 40. Phase: val:   0%|          | 0/106 [00:00<?, ?it/s]",
      "application/vnd.jupyter.widget-view+json": {
       "version_major": 2,
       "version_minor": 0,
       "model_id": "ae9085fcbdaf46f3909866ffed3ef85f"
      }
     },
     "metadata": {},
     "output_type": "display_data"
    },
    {
     "name": "stdout",
     "output_type": "stream",
     "text": [
      "val Loss: 2.1763 Acc: 0.3085 "
     ]
    }
   ],
   "source": [
    "loss_hist = {'train': [], 'val': []}\n",
    "acc_hist = {'train': [], 'val': []}\n",
    "\n",
    "# Важно! В данном примере точность используется для упрощения.\n",
    "# Никогда не используйте её если у вас несбалансированная выборка\n",
    "# Возьмите лучше F_score или ROC_AUC (об этом вам потом расскажут)\n",
    "\n",
    "# Основной алгоритм обучения\n",
    "for epoch in trange(EPOCH_NUM, desc='Whole pipeline'):\n",
    "\n",
    "    for phase in ['train', 'val']:\n",
    "        dataloader = dataloaders[phase]\n",
    "\n",
    "        # Это условие необходимо так как у нас есть слой DropOut\n",
    "        # И на валидации его принято фиксировать\n",
    "        if phase == 'train':\n",
    "            model.train()\n",
    "        elif phase == 'val':\n",
    "            model.eval()\n",
    "\n",
    "        running_loss = 0.\n",
    "        running_acc = 0.\n",
    "\n",
    "        # Проходимся по набору данных\n",
    "        for (X_batch, y_batch) in tqdm(dataloader, desc=f'Epoch: {epoch + 1}. Phase: {phase}'):\n",
    "            # Нормализуем наши данные\n",
    "            X_batch = X_batch / 255\n",
    "            # X_batch = transforms.Normalize((0.485, 0.456, 0.406), (0.229, 0.224, 0.225))(X_batch)\n",
    "\n",
    "            # Переносим на устройство\n",
    "            X_batch = X_batch.to(DEVICE)\n",
    "            y_batch = y_batch.to(DEVICE)\n",
    "\n",
    "            # Для корректного обучения перед каждым шагом необходимо сбрасывать прошлые ошибки\n",
    "            optimizer.zero_grad()\n",
    "\n",
    "            with torch.set_grad_enabled(phase == 'train'):\n",
    "                y_pred = model(X_batch)\n",
    "\n",
    "                loss_value = loss_function(y_pred, y_batch)\n",
    "                y_pred_class = y_pred.argmax(dim=1)\n",
    "\n",
    "                # На обучении мы хотим учиться в зависимости от ошибки\n",
    "                if phase == 'train':\n",
    "                    loss_value.backward()\n",
    "                    optimizer.step()\n",
    "\n",
    "            # Аггрегируем ошибку и точность\n",
    "            running_loss += loss_value.item()\n",
    "            running_acc += (y_pred_class == y_batch.data).float().mean().data.cpu().numpy()\n",
    "\n",
    "        epoch_loss = running_loss / len(dataloader)\n",
    "        epoch_acc = running_acc / len(dataloader)\n",
    "\n",
    "        print(f'{phase} Loss: {epoch_loss:.4f} Acc: {epoch_acc:.4f} ', end='')\n",
    "\n",
    "        loss_hist[phase].append(epoch_loss)\n",
    "        acc_hist[phase].append(epoch_acc)"
   ],
   "metadata": {
    "collapsed": false,
    "pycharm": {
     "name": "#%%\n"
    }
   }
  },
  {
   "cell_type": "code",
   "source": [
    "import matplotlib.pyplot as plt\n",
    "\n",
    "plt.rcParams['figure.figsize'] = (14, 7)\n",
    "for experiment_id in acc_hist.keys():\n",
    "    plt.plot(acc_hist[experiment_id], label=experiment_id)\n",
    "plt.legend(loc='upper left')\n",
    "plt.title('Model Accuracy')\n",
    "plt.xlabel('Epoch num', fontsize=15)\n",
    "plt.ylabel('Accuracy value', fontsize=15)\n",
    "plt.grid(linestyle='--', linewidth=0.5, color='.7')\n",
    "plt.show()\n",
    "\n",
    "plt.rcParams['figure.figsize'] = (14, 7)\n",
    "for experiment_id in loss_hist.keys():\n",
    "    plt.plot(loss_hist[experiment_id], label=experiment_id)\n",
    "plt.legend(loc='upper left')\n",
    "plt.title('Model Loss')\n",
    "plt.xlabel('Epoch num', fontsize=15)\n",
    "plt.ylabel('Loss function value', fontsize=15)\n",
    "plt.grid(linestyle='--', linewidth=0.5, color='.7')\n",
    "plt.show()"
   ],
   "metadata": {
    "collapsed": false,
    "pycharm": {
     "name": "#%%\n"
    }
   },
   "execution_count": 11,
   "outputs": [
    {
     "data": {
      "text/plain": "<Figure size 1008x504 with 1 Axes>",
      "image/png": "[encoded data removed]"
     },
     "metadata": {
      "needs_background": "light"
     },
     "output_type": "display_data"
    },
    {
     "data": {
      "text/plain": "<Figure size 1008x504 with 1 Axes>",
      "image/png": "[encoded data removed]"
     },
     "metadata": {
      "needs_background": "light"
     },
     "output_type": "display_data"
    }
   ]
  },
  {
   "cell_type": "code",
   "execution_count": 12,
   "outputs": [
    {
     "data": {
      "text/plain": "<matplotlib.image.AxesImage at 0x22f71561130>"
     },
     "execution_count": 12,
     "metadata": {},
     "output_type": "execute_result"
    },
    {
     "data": {
      "text/plain": "<Figure size 1008x504 with 1 Axes>",
      "image/png": "[encoded data removed]"
     },
     "metadata": {
      "needs_background": "light"
     },
     "output_type": "display_data"
    }
   ],
   "source": [
    "img = full_dataset[112][0].detach().numpy()\n",
    "\n",
    "plt.imshow(np.transpose(img, (1,2,0)))"
   ],
   "metadata": {
    "collapsed": false,
    "pycharm": {
     "name": "#%%\n"
    }
   }
  },
  {
   "cell_type": "code",
   "execution_count": 13,
   "outputs": [
    {
     "data": {
      "text/plain": "torch.Size([500, 3, 64, 64])"
     },
     "execution_count": 13,
     "metadata": {},
     "output_type": "execute_result"
    }
   ],
   "source": [
    "train_items = [train_dataset[i] for i in range(500)]\n",
    "xs, ys = zip(*train_items)\n",
    "\n",
    "xs = torch.stack(xs)\n",
    "# xs = transforms.Normalize((0.485, 0.456, 0.406), (0.229, 0.224, 0.225))(xs)\n",
    "xs.size()"
   ],
   "metadata": {
    "collapsed": false,
    "pycharm": {
     "name": "#%%\n"
    }
   }
  },
  {
   "cell_type": "code",
   "execution_count": 20,
   "outputs": [
    {
     "data": {
      "text/plain": "torch.Size([500, 18])"
     },
     "execution_count": 14,
     "metadata": {},
     "output_type": "execute_result"
    },
    {
     "data": {
      "text/plain": "torch.Size([500, 64])"
     },
     "execution_count": 20,
     "metadata": {},
     "output_type": "execute_result"
    }
   ],
   "source": [
    "xs_device = xs.to(DEVICE)\n",
    "embs = model.embed(xs_device)\n",
    "embs.size()"
   ],
   "metadata": {
    "collapsed": false,
    "pycharm": {
     "name": "#%%\n"
    }
   }
  },
  {
   "cell_type": "code",
   "execution_count": 15,
   "outputs": [],
   "source": [
    "import umap"
   ],
   "metadata": {
    "collapsed": false,
    "pycharm": {
     "name": "#%%\n"
    }
   }
  },
  {
   "cell_type": "code",
   "execution_count": 16,
   "outputs": [
    {
     "data": {
      "text/plain": "(500, 2)"
     },
     "execution_count": 16,
     "metadata": {},
     "output_type": "execute_result"
    }
   ],
   "source": [
    "points = umap.UMAP().fit_transform(embs.cpu().detach().numpy())\n",
    "points.shape"
   ],
   "metadata": {
    "collapsed": false,
    "pycharm": {
     "name": "#%%\n"
    }
   }
  },
  {
   "cell_type": "code",
   "execution_count": 17,
   "outputs": [],
   "source": [
    "from tensorboardX import SummaryWriter\n",
    "\n",
    "writer = SummaryWriter()\n",
    "features = xs.mean(dim=1).view(-1, 64 * 64)\n",
    "writer.add_embedding(features,\n",
    "                     metadata=ys,\n",
    "                     label_img=xs)\n",
    "writer.close()"
   ],
   "metadata": {
    "collapsed": false,
    "pycharm": {
     "name": "#%%\n"
    }
   }
  },
  {
   "cell_type": "code",
   "execution_count": 18,
   "outputs": [],
   "source": [
    "def convolve(image, the_filter):\n",
    "    ishp = image.shape\n",
    "    the_filter = the_filter.reshape(the_filter.shape + (1,) * (len(ishp) - len(the_filter.shape)))\n",
    "    fshp = the_filter.shape\n",
    "    return np.array(\n",
    "        [\n",
    "            [np.sum(image[i:i + fshp[0], j:j + fshp[1]] * the_filter, axis=(0, 1))\n",
    "             for j in range(0, ishp[1] - fshp[1])] for i in range(0, ishp[0] - fshp[0])\n",
    "        ]\n",
    "    )"
   ],
   "metadata": {
    "collapsed": false,
    "pycharm": {
     "name": "#%%\n"
    }
   }
  },
  {
   "cell_type": "code",
   "execution_count": 19,
   "outputs": [
    {
     "name": "stdout",
     "output_type": "stream",
     "text": [
      "19\n"
     ]
    },
    {
     "data": {
      "text/plain": "<Figure size 1008x504 with 1 Axes>",
      "image/png": "[encoded data removed]"
     },
     "metadata": {
      "needs_background": "light"
     },
     "output_type": "display_data"
    }
   ],
   "source": [
    "sobel_x = np.array([[-1, -2, -1], [0, 0, 0], [1, 2, 1]])\n",
    "sobel_y = np.transpose(sobel_x)\n",
    "\n",
    "def gaussian_filter(r, sigma):\n",
    "    return np.array(\n",
    "        [\n",
    "            [1 / (2 * np.pi * sigma**2) * np.exp(-(x**2 + y**2) / (2 * sigma**2))\n",
    "             for x in range(-r, r + 1)] for y in range(-r, r + 1)\n",
    "        ]\n",
    "    )\n",
    "\n",
    "img = np.array(Image.open('lena.png').convert('L'))\n",
    "img = img / 255\n",
    "sigma = 1 / np.sqrt(2 * np.pi) * 17\n",
    "r = int(np.floor(3 * sigma - 0.5))\n",
    "print(r)\n",
    "g = gaussian_filter(r, sigma / 1.6) - gaussian_filter(r, sigma)\n",
    "new_img = convolve(img, g)\n",
    "plt.imshow(new_img, cmap='gray');"
   ],
   "metadata": {
    "collapsed": false,
    "pycharm": {
     "name": "#%%\n"
    }
   }
  }
 ],
 "metadata": {
  "kernelspec": {
   "name": "pycharm-bece0461",
   "language": "python",
   "display_name": "PyCharm (6)"
  },
  "language_info": {
   "codemirror_mode": {
    "name": "ipython",
    "version": 3
   },
   "file_extension": ".py",
   "mimetype": "text/x-python",
   "name": "python",
   "nbconvert_exporter": "python",
   "pygments_lexer": "ipython3",
   "version": "3.9.7"
  }
 },
 "nbformat": 4,
 "nbformat_minor": 5
}